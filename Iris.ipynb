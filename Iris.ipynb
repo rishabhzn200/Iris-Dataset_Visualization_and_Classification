{
 "cells": [
  {
   "cell_type": "markdown",
   "metadata": {
    "_uuid": "67a6da98bbd214b87566b62c0fdb49cfa422f760"
   },
   "source": [
    "# IRIS Data Visualization and Classification\n",
    "This notebook uses python to visualize and classify the IRIS dataset. Dataset can be obtained from kaggle webiste: https://www.kaggle.com/uciml/iris"
   ]
  },
  {
   "cell_type": "code",
   "execution_count": 57,
   "metadata": {
    "_cell_guid": "b1076dfc-b9ad-4769-8c92-a6c4dae69d19",
    "_uuid": "8f2839f25d086af736a60e9eeb907d3b93b6e0e5"
   },
   "outputs": [
    {
     "name": "stdout",
     "output_type": "stream",
     "text": [
      "['Iris.csv']\n"
     ]
    }
   ],
   "source": [
    "# import numpy and pandas\n",
    "import numpy as np # linear algebra\n",
    "import pandas as pd # data processing, CSV file I/O (e.g. pd.read_csv)\n",
    "import os\n",
    "print(os.listdir(\"./input\"))"
   ]
  },
  {
   "cell_type": "markdown",
   "metadata": {
    "_uuid": "5930a14ec1ecd23819bfed8ea6a49220efd69aa3"
   },
   "source": [
    "### Read the IRIS dataset and display first few rows"
   ]
  },
  {
   "cell_type": "code",
   "execution_count": 58,
   "metadata": {
    "_cell_guid": "79c7e3d0-c299-4dcb-8224-4455121ee9b0",
    "_uuid": "d629ff2d2480ee46fbb7e2d37f6b5fab8052498a"
   },
   "outputs": [
    {
     "data": {
      "text/html": [
       "<div>\n",
       "<style scoped>\n",
       "    .dataframe tbody tr th:only-of-type {\n",
       "        vertical-align: middle;\n",
       "    }\n",
       "\n",
       "    .dataframe tbody tr th {\n",
       "        vertical-align: top;\n",
       "    }\n",
       "\n",
       "    .dataframe thead th {\n",
       "        text-align: right;\n",
       "    }\n",
       "</style>\n",
       "<table border=\"1\" class=\"dataframe\">\n",
       "  <thead>\n",
       "    <tr style=\"text-align: right;\">\n",
       "      <th></th>\n",
       "      <th>Id</th>\n",
       "      <th>SepalLengthCm</th>\n",
       "      <th>SepalWidthCm</th>\n",
       "      <th>PetalLengthCm</th>\n",
       "      <th>PetalWidthCm</th>\n",
       "      <th>Species</th>\n",
       "    </tr>\n",
       "  </thead>\n",
       "  <tbody>\n",
       "    <tr>\n",
       "      <th>0</th>\n",
       "      <td>1</td>\n",
       "      <td>5.1</td>\n",
       "      <td>3.5</td>\n",
       "      <td>1.4</td>\n",
       "      <td>0.2</td>\n",
       "      <td>Iris-setosa</td>\n",
       "    </tr>\n",
       "    <tr>\n",
       "      <th>1</th>\n",
       "      <td>2</td>\n",
       "      <td>4.9</td>\n",
       "      <td>3.0</td>\n",
       "      <td>1.4</td>\n",
       "      <td>0.2</td>\n",
       "      <td>Iris-setosa</td>\n",
       "    </tr>\n",
       "    <tr>\n",
       "      <th>2</th>\n",
       "      <td>3</td>\n",
       "      <td>4.7</td>\n",
       "      <td>3.2</td>\n",
       "      <td>1.3</td>\n",
       "      <td>0.2</td>\n",
       "      <td>Iris-setosa</td>\n",
       "    </tr>\n",
       "    <tr>\n",
       "      <th>3</th>\n",
       "      <td>4</td>\n",
       "      <td>4.6</td>\n",
       "      <td>3.1</td>\n",
       "      <td>1.5</td>\n",
       "      <td>0.2</td>\n",
       "      <td>Iris-setosa</td>\n",
       "    </tr>\n",
       "    <tr>\n",
       "      <th>4</th>\n",
       "      <td>5</td>\n",
       "      <td>5.0</td>\n",
       "      <td>3.6</td>\n",
       "      <td>1.4</td>\n",
       "      <td>0.2</td>\n",
       "      <td>Iris-setosa</td>\n",
       "    </tr>\n",
       "  </tbody>\n",
       "</table>\n",
       "</div>"
      ],
      "text/plain": [
       "   Id  SepalLengthCm  SepalWidthCm  PetalLengthCm  PetalWidthCm      Species\n",
       "0   1            5.1           3.5            1.4           0.2  Iris-setosa\n",
       "1   2            4.9           3.0            1.4           0.2  Iris-setosa\n",
       "2   3            4.7           3.2            1.3           0.2  Iris-setosa\n",
       "3   4            4.6           3.1            1.5           0.2  Iris-setosa\n",
       "4   5            5.0           3.6            1.4           0.2  Iris-setosa"
      ]
     },
     "execution_count": 58,
     "metadata": {},
     "output_type": "execute_result"
    }
   ],
   "source": [
    "iris_dataset = pd.read_csv('./input/Iris.csv')\n",
    "iris_dataset.head()"
   ]
  },
  {
   "cell_type": "markdown",
   "metadata": {
    "_uuid": "0a0ca4a949abe591f1b9ebcb0ac6587bced34efe"
   },
   "source": [
    "### Separate the feature vector and labels"
   ]
  },
  {
   "cell_type": "code",
   "execution_count": 59,
   "metadata": {
    "_uuid": "5b9148651b289c0967ec90aaca9c015694a3cabe"
   },
   "outputs": [
    {
     "data": {
      "text/html": [
       "<div>\n",
       "<style scoped>\n",
       "    .dataframe tbody tr th:only-of-type {\n",
       "        vertical-align: middle;\n",
       "    }\n",
       "\n",
       "    .dataframe tbody tr th {\n",
       "        vertical-align: top;\n",
       "    }\n",
       "\n",
       "    .dataframe thead th {\n",
       "        text-align: right;\n",
       "    }\n",
       "</style>\n",
       "<table border=\"1\" class=\"dataframe\">\n",
       "  <thead>\n",
       "    <tr style=\"text-align: right;\">\n",
       "      <th></th>\n",
       "      <th>Species</th>\n",
       "    </tr>\n",
       "  </thead>\n",
       "  <tbody>\n",
       "    <tr>\n",
       "      <th>0</th>\n",
       "      <td>Iris-setosa</td>\n",
       "    </tr>\n",
       "    <tr>\n",
       "      <th>1</th>\n",
       "      <td>Iris-setosa</td>\n",
       "    </tr>\n",
       "    <tr>\n",
       "      <th>2</th>\n",
       "      <td>Iris-setosa</td>\n",
       "    </tr>\n",
       "    <tr>\n",
       "      <th>3</th>\n",
       "      <td>Iris-setosa</td>\n",
       "    </tr>\n",
       "    <tr>\n",
       "      <th>4</th>\n",
       "      <td>Iris-setosa</td>\n",
       "    </tr>\n",
       "  </tbody>\n",
       "</table>\n",
       "</div>"
      ],
      "text/plain": [
       "       Species\n",
       "0  Iris-setosa\n",
       "1  Iris-setosa\n",
       "2  Iris-setosa\n",
       "3  Iris-setosa\n",
       "4  Iris-setosa"
      ]
     },
     "execution_count": 59,
     "metadata": {},
     "output_type": "execute_result"
    }
   ],
   "source": [
    "iris_features_df = iris_dataset[[\"SepalLengthCm\", \"SepalWidthCm\", \"PetalLengthCm\", \"PetalWidthCm\"]]\n",
    "iris_labels_df = iris_dataset[[\"Species\"]]\n",
    "iris_labels_df.head()"
   ]
  },
  {
   "cell_type": "markdown",
   "metadata": {
    "_uuid": "875babf711b9c867d1fb5a65f8277eecb3c605f5"
   },
   "source": [
    "### Print the unique labels"
   ]
  },
  {
   "cell_type": "code",
   "execution_count": 60,
   "metadata": {
    "_uuid": "a2c9517673e3d856c250009d88e591ff051a821e"
   },
   "outputs": [
    {
     "data": {
      "text/plain": [
       "array(['Iris-setosa', 'Iris-versicolor', 'Iris-virginica'], dtype=object)"
      ]
     },
     "execution_count": 60,
     "metadata": {},
     "output_type": "execute_result"
    }
   ],
   "source": [
    "iris_labels_df[\"Species\"].unique()"
   ]
  },
  {
   "cell_type": "markdown",
   "metadata": {
    "_uuid": "57304ad9df31690cec90b671ee09bc981fd5d682"
   },
   "source": [
    "### Finding the correlation between the columns"
   ]
  },
  {
   "cell_type": "code",
   "execution_count": 61,
   "metadata": {
    "_uuid": "cd3ba080f68f5f4922f692f49713bff73ed94586"
   },
   "outputs": [
    {
     "data": {
      "text/html": [
       "<div>\n",
       "<style scoped>\n",
       "    .dataframe tbody tr th:only-of-type {\n",
       "        vertical-align: middle;\n",
       "    }\n",
       "\n",
       "    .dataframe tbody tr th {\n",
       "        vertical-align: top;\n",
       "    }\n",
       "\n",
       "    .dataframe thead th {\n",
       "        text-align: right;\n",
       "    }\n",
       "</style>\n",
       "<table border=\"1\" class=\"dataframe\">\n",
       "  <thead>\n",
       "    <tr style=\"text-align: right;\">\n",
       "      <th></th>\n",
       "      <th>SepalLengthCm</th>\n",
       "      <th>SepalWidthCm</th>\n",
       "      <th>PetalLengthCm</th>\n",
       "      <th>PetalWidthCm</th>\n",
       "    </tr>\n",
       "  </thead>\n",
       "  <tbody>\n",
       "    <tr>\n",
       "      <th>SepalLengthCm</th>\n",
       "      <td>1.000000</td>\n",
       "      <td>-0.109369</td>\n",
       "      <td>0.871754</td>\n",
       "      <td>0.817954</td>\n",
       "    </tr>\n",
       "    <tr>\n",
       "      <th>SepalWidthCm</th>\n",
       "      <td>-0.109369</td>\n",
       "      <td>1.000000</td>\n",
       "      <td>-0.420516</td>\n",
       "      <td>-0.356544</td>\n",
       "    </tr>\n",
       "    <tr>\n",
       "      <th>PetalLengthCm</th>\n",
       "      <td>0.871754</td>\n",
       "      <td>-0.420516</td>\n",
       "      <td>1.000000</td>\n",
       "      <td>0.962757</td>\n",
       "    </tr>\n",
       "    <tr>\n",
       "      <th>PetalWidthCm</th>\n",
       "      <td>0.817954</td>\n",
       "      <td>-0.356544</td>\n",
       "      <td>0.962757</td>\n",
       "      <td>1.000000</td>\n",
       "    </tr>\n",
       "  </tbody>\n",
       "</table>\n",
       "</div>"
      ],
      "text/plain": [
       "               SepalLengthCm  SepalWidthCm  PetalLengthCm  PetalWidthCm\n",
       "SepalLengthCm       1.000000     -0.109369       0.871754      0.817954\n",
       "SepalWidthCm       -0.109369      1.000000      -0.420516     -0.356544\n",
       "PetalLengthCm       0.871754     -0.420516       1.000000      0.962757\n",
       "PetalWidthCm        0.817954     -0.356544       0.962757      1.000000"
      ]
     },
     "execution_count": 61,
     "metadata": {},
     "output_type": "execute_result"
    }
   ],
   "source": [
    "iris_df_corr = iris_features_df.corr(method=\"pearson\")\n",
    "iris_df_corr"
   ]
  },
  {
   "cell_type": "markdown",
   "metadata": {
    "_uuid": "1a8fd5aa6372821f6df12dac64186775bd2a3608"
   },
   "source": [
    "### Use correlation matrix to generate the graph using networkx"
   ]
  },
  {
   "cell_type": "code",
   "execution_count": 62,
   "metadata": {
    "_uuid": "6b8b57f1738f3ae28512a6eea0f6f99f651557ec"
   },
   "outputs": [
    {
     "data": {
      "image/png": "[encoded data removed]",
      "text/plain": [
       "<matplotlib.figure.Figure at 0x1a16910cc0>"
      ]
     },
     "metadata": {},
     "output_type": "display_data"
    }
   ],
   "source": [
    "import networkx as nx\n",
    "import matplotlib.pyplot as plt\n",
    "%matplotlib inline\n",
    "iris_df_corr_df = iris_df_corr.stack().reset_index()\n",
    "iris_df_corr_df.columns = [\"Dim1\",\"Dim2\", \"Corr\"]\n",
    "iris_df_corr_df\n",
    "\n",
    "network_df=iris_df_corr_df[iris_df_corr_df['Corr'] >= 0.8]\n",
    "graph = nx.from_pandas_edgelist(network_df, 'Dim1', 'Dim2', edge_attr=True)\n",
    "nx.draw_circular(graph, with_labels=True, node_color='red', node_size=200, edge_color='blue', linewidths=1, font_size=12)"
   ]
  },
  {
   "cell_type": "markdown",
   "metadata": {
    "_uuid": "e8b10e02345517a9d971844ce89aa8a0473a3383"
   },
   "source": [
    "### Split the dataset into training ans testing set"
   ]
  },
  {
   "cell_type": "code",
   "execution_count": 63,
   "metadata": {
    "_uuid": "5ec6f54b6baf7296829df6b2a1bc31e09ce3bd88"
   },
   "outputs": [
    {
     "name": "stdout",
     "output_type": "stream",
     "text": [
      "Train Data Size = 112\n",
      "Test Data Size = 38\n",
      " \n"
     ]
    }
   ],
   "source": [
    "from sklearn.model_selection import train_test_split\n",
    "X_train, X_test, y_train, y_test = train_test_split(iris_features_df, iris_labels_df, test_size=.25)\n",
    "\n",
    "X_train = X_train.reset_index().drop(['index'],axis=1)\n",
    "X_test  = X_test.reset_index().drop(['index'],axis=1)\n",
    "y_train = y_train.reset_index().drop(['index'],axis=1)\n",
    "y_test  = y_test.reset_index().drop(['index'],axis=1)\n",
    "\n",
    "# Print the size of training and test data\n",
    "print(f\"Train Data Size = {X_train.shape[0]}\\nTest Data Size = {X_test.shape[0]}\\n \")\n",
    "\n",
    "# X_train.head()\n",
    "# y_train.head()"
   ]
  },
  {
   "cell_type": "markdown",
   "metadata": {
    "_uuid": "95419336fe2e00505df19d8df5b6f50c86d2c4a7"
   },
   "source": [
    "### Scale the features using sklearn"
   ]
  },
  {
   "cell_type": "code",
   "execution_count": 64,
   "metadata": {
    "_uuid": "f83db7d6cee2636dded1c479b202e271c5c29af7"
   },
   "outputs": [
    {
     "data": {
      "text/html": [
       "<div>\n",
       "<style scoped>\n",
       "    .dataframe tbody tr th:only-of-type {\n",
       "        vertical-align: middle;\n",
       "    }\n",
       "\n",
       "    .dataframe tbody tr th {\n",
       "        vertical-align: top;\n",
       "    }\n",
       "\n",
       "    .dataframe thead th {\n",
       "        text-align: right;\n",
       "    }\n",
       "</style>\n",
       "<table border=\"1\" class=\"dataframe\">\n",
       "  <thead>\n",
       "    <tr style=\"text-align: right;\">\n",
       "      <th></th>\n",
       "      <th>SepalLengthCm</th>\n",
       "      <th>SepalWidthCm</th>\n",
       "      <th>PetalLengthCm</th>\n",
       "      <th>PetalWidthCm</th>\n",
       "    </tr>\n",
       "  </thead>\n",
       "  <tbody>\n",
       "    <tr>\n",
       "      <th>0</th>\n",
       "      <td>-0.315055</td>\n",
       "      <td>-0.356883</td>\n",
       "      <td>-0.092274</td>\n",
       "      <td>0.131898</td>\n",
       "    </tr>\n",
       "    <tr>\n",
       "      <th>1</th>\n",
       "      <td>-0.315055</td>\n",
       "      <td>-0.132328</td>\n",
       "      <td>0.427349</td>\n",
       "      <td>0.400491</td>\n",
       "    </tr>\n",
       "    <tr>\n",
       "      <th>2</th>\n",
       "      <td>-1.178703</td>\n",
       "      <td>-1.255106</td>\n",
       "      <td>0.427349</td>\n",
       "      <td>0.669084</td>\n",
       "    </tr>\n",
       "    <tr>\n",
       "      <th>3</th>\n",
       "      <td>0.918727</td>\n",
       "      <td>-0.356883</td>\n",
       "      <td>0.485085</td>\n",
       "      <td>0.131898</td>\n",
       "    </tr>\n",
       "    <tr>\n",
       "      <th>4</th>\n",
       "      <td>0.795349</td>\n",
       "      <td>-0.581439</td>\n",
       "      <td>0.485085</td>\n",
       "      <td>0.400491</td>\n",
       "    </tr>\n",
       "  </tbody>\n",
       "</table>\n",
       "</div>"
      ],
      "text/plain": [
       "   SepalLengthCm  SepalWidthCm  PetalLengthCm  PetalWidthCm\n",
       "0      -0.315055     -0.356883      -0.092274      0.131898\n",
       "1      -0.315055     -0.132328       0.427349      0.400491\n",
       "2      -1.178703     -1.255106       0.427349      0.669084\n",
       "3       0.918727     -0.356883       0.485085      0.131898\n",
       "4       0.795349     -0.581439       0.485085      0.400491"
      ]
     },
     "execution_count": 64,
     "metadata": {},
     "output_type": "execute_result"
    }
   ],
   "source": [
    "from sklearn.preprocessing import StandardScaler\n",
    "scaler = StandardScaler()\n",
    "scaler.fit(X_train)\n",
    "\n",
    "X_train_scaled = scaler.transform(X_train)\n",
    "X_test_scaled = scaler.transform(X_test)\n",
    "\n",
    "pd.DataFrame(X_train_scaled, columns=[\"SepalLengthCm\", \"SepalWidthCm\", \"PetalLengthCm\", \"PetalWidthCm\"]).head()\n"
   ]
  },
  {
   "cell_type": "markdown",
   "metadata": {
    "_uuid": "55efe6ed5f754835564170f9177486aa57a52351"
   },
   "source": [
    "### Use PCA to reduce the dimensionality of data from 4d to 2d"
   ]
  },
  {
   "cell_type": "code",
   "execution_count": 65,
   "metadata": {
    "_uuid": "681d6e17a967a17fb7c95089fb9faf0a1c2a7d67",
    "collapsed": true
   },
   "outputs": [],
   "source": [
    "from sklearn.decomposition import PCA as sklearnPCA\n",
    "\n",
    "pca = sklearnPCA(n_components=2) #2-dimensional PCA\n",
    "X_train_scaled_2D = pd.DataFrame(pca.fit_transform(X_train_scaled))\n",
    "X_test_scaled_2D = pd.DataFrame(pca.fit_transform(X_test_scaled))\n",
    "\n",
    "X_train_scaled_2D = pd.DataFrame(X_train_scaled_2D)\n",
    "X_test_scaled_2D = pd.DataFrame(X_test_scaled_2D)"
   ]
  },
  {
   "cell_type": "markdown",
   "metadata": {
    "_uuid": "9cb9374fb6bba4c21c18518f4725b1338610b1cc"
   },
   "source": [
    "### Use <em>bokeh<em> to plot the data"
   ]
  },
  {
   "cell_type": "code",
   "execution_count": 66,
   "metadata": {
    "_uuid": "4d508d6435e0189f4111e7370fc7e08e8ad6a379"
   },
   "outputs": [
    {
     "data": {
      "text/html": [
       "\n",
       "    <div class=\"bk-root\">\n",
       "        <a href=\"https://bokeh.pydata.org\" target=\"_blank\" class=\"bk-logo bk-logo-small bk-logo-notebook\"></a>\n",
       "        <span id=\"c263b906-1cd0-45a6-96dc-0d40fcdebb37\">Loading BokehJS ...</span>\n",
       "    </div>"
      ]
     },
     "metadata": {},
     "output_type": "display_data"
    },
    {
     "data": {
      "application/javascript": [
       "\n",
       "(function(root) {\n",
       "  function now() {\n",
       "    return new Date();\n",
       "  }\n",
       "\n",
       "  var force = true;\n",
       "\n",
       "  if (typeof (root._bokeh_onload_callbacks) === \"undefined\" || force === true) {\n",
       "    root._bokeh_onload_callbacks = [];\n",
       "    root._bokeh_is_loading = undefined;\n",
       "  }\n",
       "\n",
       "  var JS_MIME_TYPE = 'application/javascript';\n",
       "  var HTML_MIME_TYPE = 'text/html';\n",
       "  var EXEC_MIME_TYPE = 'application/vnd.bokehjs_exec.v0+json';\n",
       "  var CLASS_NAME = 'output_bokeh rendered_html';\n",
       "\n",
       "  /**\n",
       "   * Render data to the DOM node\n",
       "   */\n",
       "  function render(props, node) {\n",
       "    var script = document.createElement(\"script\");\n",
       "    node.appendChild(script);\n",
       "  }\n",
       "\n",
       "  /**\n",
       "   * Handle when an output is cleared or removed\n",
       "   */\n",
       "  function handleClearOutput(event, handle) {\n",
       "    var cell = handle.cell;\n",
       "\n",
       "    var id = cell.output_area._bokeh_element_id;\n",
       "    var server_id = cell.output_area._bokeh_server_id;\n",
       "    // Clean up Bokeh references\n",
       "    if (id != null && id in Bokeh.index) {\n",
       "      Bokeh.index[id].model.document.clear();\n",
       "      delete Bokeh.index[id];\n",
       "    }\n",
       "\n",
       "    if (server_id !== undefined) {\n",
       "      // Clean up Bokeh references\n",
       "      var cmd = \"from bokeh.io.state import curstate; print(curstate().uuid_to_server['\" + server_id + \"'].get_sessions()[0].document.roots[0]._id)\";\n",
       "      cell.notebook.kernel.execute(cmd, {\n",
       "        iopub: {\n",
       "          output: function(msg) {\n",
       "            var id = msg.content.text.trim();\n",
       "            if (id in Bokeh.index) {\n",
       "              Bokeh.index[id].model.document.clear();\n",
       "              delete Bokeh.index[id];\n",
       "            }\n",
       "          }\n",
       "        }\n",
       "      });\n",
       "      // Destroy server and session\n",
       "      var cmd = \"import bokeh.io.notebook as ion; ion.destroy_server('\" + server_id + \"')\";\n",
       "      cell.notebook.kernel.execute(cmd);\n",
       "    }\n",
       "  }\n",
       "\n",
       "  /**\n",
       "   * Handle when a new output is added\n",
       "   */\n",
       "  function handleAddOutput(event, handle) {\n",
       "    var output_area = handle.output_area;\n",
       "    var output = handle.output;\n",
       "\n",
       "    // limit handleAddOutput to display_data with EXEC_MIME_TYPE content only\n",
       "    if ((output.output_type != \"display_data\") || (!output.data.hasOwnProperty(EXEC_MIME_TYPE))) {\n",
       "      return\n",
       "    }\n",
       "\n",
       "    var toinsert = output_area.element.find(\".\" + CLASS_NAME.split(' ')[0]);\n",
       "\n",
       "    if (output.metadata[EXEC_MIME_TYPE][\"id\"] !== undefined) {\n",
       "      toinsert[toinsert.length - 1].firstChild.textContent = output.data[JS_MIME_TYPE];\n",
       "      // store reference to embed id on output_area\n",
       "      output_area._bokeh_element_id = output.metadata[EXEC_MIME_TYPE][\"id\"];\n",
       "    }\n",
       "    if (output.metadata[EXEC_MIME_TYPE][\"server_id\"] !== undefined) {\n",
       "      var bk_div = document.createElement(\"div\");\n",
       "      bk_div.innerHTML = output.data[HTML_MIME_TYPE];\n",
       "      var script_attrs = bk_div.children[0].attributes;\n",
       "      for (var i = 0; i < script_attrs.length; i++) {\n",
       "        toinsert[toinsert.length - 1].firstChild.setAttribute(script_attrs[i].name, script_attrs[i].value);\n",
       "      }\n",
       "      // store reference to server id on output_area\n",
       "      output_area._bokeh_server_id = output.metadata[EXEC_MIME_TYPE][\"server_id\"];\n",
       "    }\n",
       "  }\n",
       "\n",
       "  function register_renderer(events, OutputArea) {\n",
       "\n",
       "    function append_mime(data, metadata, element) {\n",
       "      // create a DOM node to render to\n",
       "      var toinsert = this.create_output_subarea(\n",
       "        metadata,\n",
       "        CLASS_NAME,\n",
       "        EXEC_MIME_TYPE\n",
       "      );\n",
       "      this.keyboard_manager.register_events(toinsert);\n",
       "      // Render to node\n",
       "      var props = {data: data, metadata: metadata[EXEC_MIME_TYPE]};\n",
       "      render(props, toinsert[toinsert.length - 1]);\n",
       "      element.append(toinsert);\n",
       "      return toinsert\n",
       "    }\n",
       "\n",
       "    /* Handle when an output is cleared or removed */\n",
       "    events.on('clear_output.CodeCell', handleClearOutput);\n",
       "    events.on('delete.Cell', handleClearOutput);\n",
       "\n",
       "    /* Handle when a new output is added */\n",
       "    events.on('output_added.OutputArea', handleAddOutput);\n",
       "\n",
       "    /**\n",
       "     * Register the mime type and append_mime function with output_area\n",
       "     */\n",
       "    OutputArea.prototype.register_mime_type(EXEC_MIME_TYPE, append_mime, {\n",
       "      /* Is output safe? */\n",
       "      safe: true,\n",
       "      /* Index of renderer in `output_area.display_order` */\n",
       "      index: 0\n",
       "    });\n",
       "  }\n",
       "\n",
       "  // register the mime type if in Jupyter Notebook environment and previously unregistered\n",
       "  if (root.Jupyter !== undefined) {\n",
       "    var events = require('base/js/events');\n",
       "    var OutputArea = require('notebook/js/outputarea').OutputArea;\n",
       "\n",
       "    if (OutputArea.prototype.mime_types().indexOf(EXEC_MIME_TYPE) == -1) {\n",
       "      register_renderer(events, OutputArea);\n",
       "    }\n",
       "  }\n",
       "\n",
       "  \n",
       "  if (typeof (root._bokeh_timeout) === \"undefined\" || force === true) {\n",
       "    root._bokeh_timeout = Date.now() + 5000;\n",
       "    root._bokeh_failed_load = false;\n",
       "  }\n",
       "\n",
       "  var NB_LOAD_WARNING = {'data': {'text/html':\n",
       "     \"<div style='background-color: #fdd'>\\n\"+\n",
       "     \"<p>\\n\"+\n",
       "     \"BokehJS does not appear to have successfully loaded. If loading BokehJS from CDN, this \\n\"+\n",
       "     \"may be due to a slow or bad network connection. Possible fixes:\\n\"+\n",
       "     \"</p>\\n\"+\n",
       "     \"<ul>\\n\"+\n",
       "     \"<li>re-rerun `output_notebook()` to attempt to load from CDN again, or</li>\\n\"+\n",
       "     \"<li>use INLINE resources instead, as so:</li>\\n\"+\n",
       "     \"</ul>\\n\"+\n",
       "     \"<code>\\n\"+\n",
       "     \"from bokeh.resources import INLINE\\n\"+\n",
       "     \"output_notebook(resources=INLINE)\\n\"+\n",
       "     \"</code>\\n\"+\n",
       "     \"</div>\"}};\n",
       "\n",
       "  function display_loaded() {\n",
       "    var el = document.getElementById(\"c263b906-1cd0-45a6-96dc-0d40fcdebb37\");\n",
       "    if (el != null) {\n",
       "      el.textContent = \"BokehJS is loading...\";\n",
       "    }\n",
       "    if (root.Bokeh !== undefined) {\n",
       "      if (el != null) {\n",
       "        el.textContent = \"BokehJS \" + root.Bokeh.version + \" successfully loaded.\";\n",
       "      }\n",
       "    } else if (Date.now() < root._bokeh_timeout) {\n",
       "      setTimeout(display_loaded, 100)\n",
       "    }\n",
       "  }\n",
       "\n",
       "\n",
       "  function run_callbacks() {\n",
       "    try {\n",
       "      root._bokeh_onload_callbacks.forEach(function(callback) { callback() });\n",
       "    }\n",
       "    finally {\n",
       "      delete root._bokeh_onload_callbacks\n",
       "    }\n",
       "    console.info(\"Bokeh: all callbacks have finished\");\n",
       "  }\n",
       "\n",
       "  function load_libs(js_urls, callback) {\n",
       "    root._bokeh_onload_callbacks.push(callback);\n",
       "    if (root._bokeh_is_loading > 0) {\n",
       "      console.log(\"Bokeh: BokehJS is being loaded, scheduling callback at\", now());\n",
       "      return null;\n",
       "    }\n",
       "    if (js_urls == null || js_urls.length === 0) {\n",
       "      run_callbacks();\n",
       "      return null;\n",
       "    }\n",
       "    console.log(\"Bokeh: BokehJS not loaded, scheduling load and callback at\", now());\n",
       "    root._bokeh_is_loading = js_urls.length;\n",
       "    for (var i = 0; i < js_urls.length; i++) {\n",
       "      var url = js_urls[i];\n",
       "      var s = document.createElement('script');\n",
       "      s.src = url;\n",
       "      s.async = false;\n",
       "      s.onreadystatechange = s.onload = function() {\n",
       "        root._bokeh_is_loading--;\n",
       "        if (root._bokeh_is_loading === 0) {\n",
       "          console.log(\"Bokeh: all BokehJS libraries loaded\");\n",
       "          run_callbacks()\n",
       "        }\n",
       "      };\n",
       "      s.onerror = function() {\n",
       "        console.warn(\"failed to load library \" + url);\n",
       "      };\n",
       "      console.log(\"Bokeh: injecting script tag for BokehJS library: \", url);\n",
       "      document.getElementsByTagName(\"head\")[0].appendChild(s);\n",
       "    }\n",
       "  };var element = document.getElementById(\"c263b906-1cd0-45a6-96dc-0d40fcdebb37\");\n",
       "  if (element == null) {\n",
       "    console.log(\"Bokeh: ERROR: autoload.js configured with elementid 'c263b906-1cd0-45a6-96dc-0d40fcdebb37' but no matching script tag was found. \")\n",
       "    return false;\n",
       "  }\n",
       "\n",
       "  var js_urls = [\"https://cdn.pydata.org/bokeh/dev/bokeh-1.0.0dev4.min.js\", \"https://cdn.pydata.org/bokeh/dev/bokeh-widgets-1.0.0dev4.min.js\", \"https://cdn.pydata.org/bokeh/dev/bokeh-tables-1.0.0dev4.min.js\", \"https://cdn.pydata.org/bokeh/dev/bokeh-gl-1.0.0dev4.min.js\"];\n",
       "\n",
       "  var inline_js = [\n",
       "    function(Bokeh) {\n",
       "      Bokeh.set_log_level(\"info\");\n",
       "    },\n",
       "    \n",
       "    function(Bokeh) {\n",
       "      \n",
       "    },\n",
       "    function(Bokeh) {\n",
       "      console.log(\"Bokeh: injecting CSS: https://cdn.pydata.org/bokeh/dev/bokeh-1.0.0dev4.min.css\");\n",
       "      Bokeh.embed.inject_css(\"https://cdn.pydata.org/bokeh/dev/bokeh-1.0.0dev4.min.css\");\n",
       "      console.log(\"Bokeh: injecting CSS: https://cdn.pydata.org/bokeh/dev/bokeh-widgets-1.0.0dev4.min.css\");\n",
       "      Bokeh.embed.inject_css(\"https://cdn.pydata.org/bokeh/dev/bokeh-widgets-1.0.0dev4.min.css\");\n",
       "      console.log(\"Bokeh: injecting CSS: https://cdn.pydata.org/bokeh/dev/bokeh-tables-1.0.0dev4.min.css\");\n",
       "      Bokeh.embed.inject_css(\"https://cdn.pydata.org/bokeh/dev/bokeh-tables-1.0.0dev4.min.css\");\n",
       "    }\n",
       "  ];\n",
       "\n",
       "  function run_inline_js() {\n",
       "    \n",
       "    if ((root.Bokeh !== undefined) || (force === true)) {\n",
       "      for (var i = 0; i < inline_js.length; i++) {\n",
       "        inline_js[i].call(root, root.Bokeh);\n",
       "      }if (force === true) {\n",
       "        display_loaded();\n",
       "      }} else if (Date.now() < root._bokeh_timeout) {\n",
       "      setTimeout(run_inline_js, 100);\n",
       "    } else if (!root._bokeh_failed_load) {\n",
       "      console.log(\"Bokeh: BokehJS failed to load within specified timeout.\");\n",
       "      root._bokeh_failed_load = true;\n",
       "    } else if (force !== true) {\n",
       "      var cell = $(document.getElementById(\"c263b906-1cd0-45a6-96dc-0d40fcdebb37\")).parents('.cell').data().cell;\n",
       "      cell.output_area.append_execute_result(NB_LOAD_WARNING)\n",
       "    }\n",
       "\n",
       "  }\n",
       "\n",
       "  if (root._bokeh_is_loading === 0) {\n",
       "    console.log(\"Bokeh: BokehJS loaded, going straight to plotting\");\n",
       "    run_inline_js();\n",
       "  } else {\n",
       "    load_libs(js_urls, function() {\n",
       "      console.log(\"Bokeh: BokehJS plotting callback run at\", now());\n",
       "      run_inline_js();\n",
       "    });\n",
       "  }\n",
       "}(window));"
      ],
      "application/vnd.bokehjs_load.v0+json": "\n(function(root) {\n  function now() {\n    return new Date();\n  }\n\n  var force = true;\n\n  if (typeof (root._bokeh_onload_callbacks) === \"undefined\" || force === true) {\n    root._bokeh_onload_callbacks = [];\n    root._bokeh_is_loading = undefined;\n  }\n\n  \n\n  \n  if (typeof (root._bokeh_timeout) === \"undefined\" || force === true) {\n    root._bokeh_timeout = Date.now() + 5000;\n    root._bokeh_failed_load = false;\n  }\n\n  var NB_LOAD_WARNING = {'data': {'text/html':\n     \"<div style='background-color: #fdd'>\\n\"+\n     \"<p>\\n\"+\n     \"BokehJS does not appear to have successfully loaded. If loading BokehJS from CDN, this \\n\"+\n     \"may be due to a slow or bad network connection. Possible fixes:\\n\"+\n     \"</p>\\n\"+\n     \"<ul>\\n\"+\n     \"<li>re-rerun `output_notebook()` to attempt to load from CDN again, or</li>\\n\"+\n     \"<li>use INLINE resources instead, as so:</li>\\n\"+\n     \"</ul>\\n\"+\n     \"<code>\\n\"+\n     \"from bokeh.resources import INLINE\\n\"+\n     \"output_notebook(resources=INLINE)\\n\"+\n     \"</code>\\n\"+\n     \"</div>\"}};\n\n  function display_loaded() {\n    var el = document.getElementById(\"c263b906-1cd0-45a6-96dc-0d40fcdebb37\");\n    if (el != null) {\n      el.textContent = \"BokehJS is loading...\";\n    }\n    if (root.Bokeh !== undefined) {\n      if (el != null) {\n        el.textContent = \"BokehJS \" + root.Bokeh.version + \" successfully loaded.\";\n      }\n    } else if (Date.now() < root._bokeh_timeout) {\n      setTimeout(display_loaded, 100)\n    }\n  }\n\n\n  function run_callbacks() {\n    try {\n      root._bokeh_onload_callbacks.forEach(function(callback) { callback() });\n    }\n    finally {\n      delete root._bokeh_onload_callbacks\n    }\n    console.info(\"Bokeh: all callbacks have finished\");\n  }\n\n  function load_libs(js_urls, callback) {\n    root._bokeh_onload_callbacks.push(callback);\n    if (root._bokeh_is_loading > 0) {\n      console.log(\"Bokeh: BokehJS is being loaded, scheduling callback at\", now());\n      return null;\n    }\n    if (js_urls == null || js_urls.length === 0) {\n      run_callbacks();\n      return null;\n    }\n    console.log(\"Bokeh: BokehJS not loaded, scheduling load and callback at\", now());\n    root._bokeh_is_loading = js_urls.length;\n    for (var i = 0; i < js_urls.length; i++) {\n      var url = js_urls[i];\n      var s = document.createElement('script');\n      s.src = url;\n      s.async = false;\n      s.onreadystatechange = s.onload = function() {\n        root._bokeh_is_loading--;\n        if (root._bokeh_is_loading === 0) {\n          console.log(\"Bokeh: all BokehJS libraries loaded\");\n          run_callbacks()\n        }\n      };\n      s.onerror = function() {\n        console.warn(\"failed to load library \" + url);\n      };\n      console.log(\"Bokeh: injecting script tag for BokehJS library: \", url);\n      document.getElementsByTagName(\"head\")[0].appendChild(s);\n    }\n  };var element = document.getElementById(\"c263b906-1cd0-45a6-96dc-0d40fcdebb37\");\n  if (element == null) {\n    console.log(\"Bokeh: ERROR: autoload.js configured with elementid 'c263b906-1cd0-45a6-96dc-0d40fcdebb37' but no matching script tag was found. \")\n    return false;\n  }\n\n  var js_urls = [\"https://cdn.pydata.org/bokeh/dev/bokeh-1.0.0dev4.min.js\", \"https://cdn.pydata.org/bokeh/dev/bokeh-widgets-1.0.0dev4.min.js\", \"https://cdn.pydata.org/bokeh/dev/bokeh-tables-1.0.0dev4.min.js\", \"https://cdn.pydata.org/bokeh/dev/bokeh-gl-1.0.0dev4.min.js\"];\n\n  var inline_js = [\n    function(Bokeh) {\n      Bokeh.set_log_level(\"info\");\n    },\n    \n    function(Bokeh) {\n      \n    },\n    function(Bokeh) {\n      console.log(\"Bokeh: injecting CSS: https://cdn.pydata.org/bokeh/dev/bokeh-1.0.0dev4.min.css\");\n      Bokeh.embed.inject_css(\"https://cdn.pydata.org/bokeh/dev/bokeh-1.0.0dev4.min.css\");\n      console.log(\"Bokeh: injecting CSS: https://cdn.pydata.org/bokeh/dev/bokeh-widgets-1.0.0dev4.min.css\");\n      Bokeh.embed.inject_css(\"https://cdn.pydata.org/bokeh/dev/bokeh-widgets-1.0.0dev4.min.css\");\n      console.log(\"Bokeh: injecting CSS: https://cdn.pydata.org/bokeh/dev/bokeh-tables-1.0.0dev4.min.css\");\n      Bokeh.embed.inject_css(\"https://cdn.pydata.org/bokeh/dev/bokeh-tables-1.0.0dev4.min.css\");\n    }\n  ];\n\n  function run_inline_js() {\n    \n    if ((root.Bokeh !== undefined) || (force === true)) {\n      for (var i = 0; i < inline_js.length; i++) {\n        inline_js[i].call(root, root.Bokeh);\n      }if (force === true) {\n        display_loaded();\n      }} else if (Date.now() < root._bokeh_timeout) {\n      setTimeout(run_inline_js, 100);\n    } else if (!root._bokeh_failed_load) {\n      console.log(\"Bokeh: BokehJS failed to load within specified timeout.\");\n      root._bokeh_failed_load = true;\n    } else if (force !== true) {\n      var cell = $(document.getElementById(\"c263b906-1cd0-45a6-96dc-0d40fcdebb37\")).parents('.cell').data().cell;\n      cell.output_area.append_execute_result(NB_LOAD_WARNING)\n    }\n\n  }\n\n  if (root._bokeh_is_loading === 0) {\n    console.log(\"Bokeh: BokehJS loaded, going straight to plotting\");\n    run_inline_js();\n  } else {\n    load_libs(js_urls, function() {\n      console.log(\"Bokeh: BokehJS plotting callback run at\", now());\n      run_inline_js();\n    });\n  }\n}(window));"
     },
     "metadata": {},
     "output_type": "display_data"
    }
   ],
   "source": [
    "from bokeh.plotting import figure, ColumnDataSource\n",
    "from bokeh.io import output_notebook, show\n",
    "from bokeh.palettes import inferno as palette\n",
    "import itertools\n",
    "output_notebook()\n",
    "\n",
    "# Combine the data for plotting\n",
    "data_combine = pd.concat([X_train_scaled_2D, y_train], axis=1)\n",
    "# data_combine[1]\n",
    "\n"
   ]
  },
  {
   "cell_type": "markdown",
   "metadata": {
    "_uuid": "e36b49cb605d0c66aa5a25cc3bf84f2258ee841c"
   },
   "source": [
    "### Plot the dimensions using Bokeh"
   ]
  },
  {
   "cell_type": "code",
   "execution_count": 67,
   "metadata": {
    "_uuid": "57c6c70ee044ab90a065cf8d4c1177485811ded6"
   },
   "outputs": [
    {
     "data": {
      "text/html": [
       "\n",
       "\n",
       "\n",
       "\n",
       "\n",
       "\n",
       "  <div class=\"bk-root\" id=\"9f6e6d68-4678-48a3-8767-949be231838f\"></div>\n"
      ]
     },
     "metadata": {},
     "output_type": "display_data"
    },
    {
     "data": {
      "application/javascript": [
       "(function(root) {\n",
       "  function embed_document(root) {\n",
       "    \n",
       "  var docs_json = {\"b01063bc-8734-4c55-997a-ebdc12516c85\":{\"roots\":{\"references\":[{\"attributes\":{\"below\":[{\"id\":\"12537f5c-f654-45ef-8af9-8027f1d9a830\",\"type\":\"LinearAxis\"}],\"left\":[{\"id\":\"ed9d5016-bd22-407b-b50c-85d87354e528\",\"type\":\"LinearAxis\"}],\"renderers\":[{\"id\":\"12537f5c-f654-45ef-8af9-8027f1d9a830\",\"type\":\"LinearAxis\"},{\"id\":\"c278d508-4678-4534-9461-5917813118ee\",\"type\":\"Grid\"},{\"id\":\"ed9d5016-bd22-407b-b50c-85d87354e528\",\"type\":\"LinearAxis\"},{\"id\":\"17cfa59f-93c2-41d6-9d79-c0458e7504dc\",\"type\":\"Grid\"},{\"id\":\"75c93c2d-dd63-4e9e-82a7-61abb9a35384\",\"type\":\"BoxAnnotation\"},{\"id\":\"670c5509-3e68-4454-a90f-9bc1af85bf26\",\"type\":\"Legend\"},{\"id\":\"4313fc21-5d16-4afb-9515-136d022a495f\",\"type\":\"GlyphRenderer\"},{\"id\":\"7e09ce22-d2fe-44f2-97e2-56eb981856be\",\"type\":\"GlyphRenderer\"},{\"id\":\"df364337-f5d3-4e6b-85df-ffcc142d921f\",\"type\":\"GlyphRenderer\"}],\"title\":{\"id\":\"c3bb5c41-0bb5-4667-9fe3-653747c64457\",\"type\":\"Title\"},\"toolbar\":{\"id\":\"fad8e57e-e7fb-4aa2-9f79-25af866034bb\",\"type\":\"Toolbar\"},\"x_range\":{\"id\":\"589c59d7-0b84-4d47-9c17-fd2b4d787adf\",\"type\":\"DataRange1d\"},\"x_scale\":{\"id\":\"d50ba24d-07f9-4c17-a7b3-8d26e069b3a4\",\"type\":\"LinearScale\"},\"y_range\":{\"id\":\"fc65f263-8145-4169-9b46-0009aa4d4a88\",\"type\":\"DataRange1d\"},\"y_scale\":{\"id\":\"4d6773e3-b2f9-4c82-8269-75e0da8bda5d\",\"type\":\"LinearScale\"}},\"id\":\"b6580edf-d81d-4ad3-9712-a6f5d6f7585d\",\"subtype\":\"Figure\",\"type\":\"Plot\"},{\"attributes\":{\"callback\":null},\"id\":\"fc65f263-8145-4169-9b46-0009aa4d4a88\",\"type\":\"DataRange1d\"},{\"attributes\":{\"overlay\":{\"id\":\"75c93c2d-dd63-4e9e-82a7-61abb9a35384\",\"type\":\"BoxAnnotation\"}},\"id\":\"e545d92c-5d23-4ed3-b0a5-d9cf95fd6c62\",\"type\":\"BoxZoomTool\"},{\"attributes\":{},\"id\":\"6150c629-f3aa-4130-820f-95adcf43b1d6\",\"type\":\"UnionRenderers\"},{\"attributes\":{},\"id\":\"86fa5f48-c50c-4fbd-89fa-5600e94712c6\",\"type\":\"WheelZoomTool\"},{\"attributes\":{\"callback\":null},\"id\":\"589c59d7-0b84-4d47-9c17-fd2b4d787adf\",\"type\":\"DataRange1d\"},{\"attributes\":{\"data_source\":{\"id\":\"0fd530e3-0a6a-49e1-8654-2d71239868ef\",\"type\":\"ColumnDataSource\"},\"glyph\":{\"id\":\"2f9969f1-6b65-4c96-a553-5e8c08b082db\",\"type\":\"Circle\"},\"hover_glyph\":null,\"muted_glyph\":null,\"nonselection_glyph\":{\"id\":\"84d2ebb1-1f70-4189-9ead-8a89eed8952b\",\"type\":\"Circle\"},\"selection_glyph\":null,\"view\":{\"id\":\"b32851ea-3390-4536-a149-2188f13c575e\",\"type\":\"CDSView\"}},\"id\":\"df364337-f5d3-4e6b-85df-ffcc142d921f\",\"type\":\"GlyphRenderer\"},{\"attributes\":{},\"id\":\"f2ba8a8d-7fee-468b-af68-0bd104845984\",\"type\":\"BasicTickFormatter\"},{\"attributes\":{\"plot\":null,\"text\":\"IRIS Dataset in 2D\"},\"id\":\"c3bb5c41-0bb5-4667-9fe3-653747c64457\",\"type\":\"Title\"},{\"attributes\":{\"fill_color\":{\"value\":\"Blue\"},\"line_color\":{\"value\":\"Blue\"},\"line_width\":{\"value\":2},\"x\":{\"field\":\"x\"},\"y\":{\"field\":\"y\"}},\"id\":\"2f9969f1-6b65-4c96-a553-5e8c08b082db\",\"type\":\"Circle\"},{\"attributes\":{},\"id\":\"7f0a2b60-267a-4129-aeef-a015ce647d9a\",\"type\":\"Selection\"},{\"attributes\":{},\"id\":\"a79bcd6a-42e4-4df3-81b7-cd626ecc5874\",\"type\":\"UnionRenderers\"},{\"attributes\":{\"label\":{\"value\":\"Iris-setosa\"},\"renderers\":[{\"id\":\"df364337-f5d3-4e6b-85df-ffcc142d921f\",\"type\":\"GlyphRenderer\"}]},\"id\":\"dc640c65-aee2-4f2c-890a-5a538fd2a926\",\"type\":\"LegendItem\"},{\"attributes\":{\"fill_alpha\":{\"value\":0.1},\"fill_color\":{\"value\":\"#1f77b4\"},\"line_alpha\":{\"value\":0.1},\"line_color\":{\"value\":\"#1f77b4\"},\"line_width\":{\"value\":2},\"x\":{\"field\":\"x\"},\"y\":{\"field\":\"y\"}},\"id\":\"a7eede36-8f0c-48b5-83e2-8d68ed547413\",\"type\":\"Circle\"},{\"attributes\":{\"items\":[{\"id\":\"b6581ab6-d06d-4f15-b6b4-d3059168ed6e\",\"type\":\"LegendItem\"},{\"id\":\"bd0e8cce-fa36-4d8d-b795-a678456befbd\",\"type\":\"LegendItem\"},{\"id\":\"dc640c65-aee2-4f2c-890a-5a538fd2a926\",\"type\":\"LegendItem\"}],\"plot\":{\"id\":\"b6580edf-d81d-4ad3-9712-a6f5d6f7585d\",\"subtype\":\"Figure\",\"type\":\"Plot\"}},\"id\":\"670c5509-3e68-4454-a90f-9bc1af85bf26\",\"type\":\"Legend\"},{\"attributes\":{\"fill_alpha\":{\"value\":0.1},\"fill_color\":{\"value\":\"#1f77b4\"},\"line_alpha\":{\"value\":0.1},\"line_color\":{\"value\":\"#1f77b4\"},\"line_width\":{\"value\":2},\"x\":{\"field\":\"x\"},\"y\":{\"field\":\"y\"}},\"id\":\"84d2ebb1-1f70-4189-9ead-8a89eed8952b\",\"type\":\"Circle\"},{\"attributes\":{},\"id\":\"327dd367-28fc-4008-91e2-4bf7b63ebe86\",\"type\":\"Selection\"},{\"attributes\":{},\"id\":\"cc9c2427-fc68-4a88-aeef-a7c1e16f9b88\",\"type\":\"SaveTool\"},{\"attributes\":{\"fill_alpha\":{\"value\":0.1},\"fill_color\":{\"value\":\"#1f77b4\"},\"line_alpha\":{\"value\":0.1},\"line_color\":{\"value\":\"#1f77b4\"},\"line_width\":{\"value\":2},\"x\":{\"field\":\"x\"},\"y\":{\"field\":\"y\"}},\"id\":\"02582652-d2eb-4f22-93a6-518595a4368b\",\"type\":\"Circle\"},{\"attributes\":{\"source\":{\"id\":\"eb20adc3-2324-484a-aee6-2d661fbb9631\",\"type\":\"ColumnDataSource\"}},\"id\":\"fb05911f-9cb3-406e-b489-d63737634cbd\",\"type\":\"CDSView\"},{\"attributes\":{\"data_source\":{\"id\":\"7cddcd14-8744-47f5-bba5-186727496184\",\"type\":\"ColumnDataSource\"},\"glyph\":{\"id\":\"c6823691-a072-4131-97a6-123737d3dc61\",\"type\":\"Circle\"},\"hover_glyph\":null,\"muted_glyph\":null,\"nonselection_glyph\":{\"id\":\"02582652-d2eb-4f22-93a6-518595a4368b\",\"type\":\"Circle\"},\"selection_glyph\":null,\"view\":{\"id\":\"ef6fa197-9bd5-4619-bd07-b0f4a3ad1cab\",\"type\":\"CDSView\"}},\"id\":\"4313fc21-5d16-4afb-9515-136d022a495f\",\"type\":\"GlyphRenderer\"},{\"attributes\":{\"fill_color\":{\"value\":\"Green\"},\"line_color\":{\"value\":\"Green\"},\"line_width\":{\"value\":2},\"x\":{\"field\":\"x\"},\"y\":{\"field\":\"y\"}},\"id\":\"2b226bad-d4cf-48fa-a7ef-3532cfdaab57\",\"type\":\"Circle\"},{\"attributes\":{},\"id\":\"6429ed46-7462-462a-a82d-3c72ec80d18a\",\"type\":\"PanTool\"},{\"attributes\":{\"plot\":{\"id\":\"b6580edf-d81d-4ad3-9712-a6f5d6f7585d\",\"subtype\":\"Figure\",\"type\":\"Plot\"},\"ticker\":{\"id\":\"89469390-6146-4f9b-a502-485a086cb120\",\"type\":\"BasicTicker\"}},\"id\":\"c278d508-4678-4534-9461-5917813118ee\",\"type\":\"Grid\"},{\"attributes\":{},\"id\":\"7cb97e9a-c2a8-4593-9066-002e702ce3a1\",\"type\":\"ResetTool\"},{\"attributes\":{\"axis_label\":\"PCA Dim 1\",\"formatter\":{\"id\":\"a5aeabdf-8d56-4ae3-a159-db00fe37c948\",\"type\":\"BasicTickFormatter\"},\"plot\":{\"id\":\"b6580edf-d81d-4ad3-9712-a6f5d6f7585d\",\"subtype\":\"Figure\",\"type\":\"Plot\"},\"ticker\":{\"id\":\"89469390-6146-4f9b-a502-485a086cb120\",\"type\":\"BasicTicker\"}},\"id\":\"12537f5c-f654-45ef-8af9-8027f1d9a830\",\"type\":\"LinearAxis\"},{\"attributes\":{\"source\":{\"id\":\"7cddcd14-8744-47f5-bba5-186727496184\",\"type\":\"ColumnDataSource\"}},\"id\":\"ef6fa197-9bd5-4619-bd07-b0f4a3ad1cab\",\"type\":\"CDSView\"},{\"attributes\":{\"callback\":null,\"data\":{\"x\":{\"__ndarray__\":\"qIiFLUkp/r+cVFGTXiEDwGAeVWmQ+ADAfGNDhQbLAcBAGPHygoYCwIcyLi6/CgLAM3QRLpOyAcBp9w5lg83/vx/odn/R/QHAsS9dkLV3A8CJ9e8UEAQCwKtHemp1RP+/xw2fF8j9AcB8Y0OFBssBwAafiIfNrP2/STMRp2q0AMDpeBYBkrIBwAI2GwpSBwDAu5PVT3xAA8BWohlHOZoGwHxlhCidpQLA6Pxrgol5AsDN4AOZ5MIDwP5s+qzL2QDA/UHvyAJuAcBWIDYgTXQBwHSuKysANQLAJfC/M1DoA8DxprWm0QAEwA4OD738WwXA3P5MOUb1AsCHf6/1X34DwJK8OqT8NALAO61+CZEPAsCqztZMSWkFwLheQjm8xwTA\",\"dtype\":\"float64\",\"shape\":[36]},\"y\":{\"__ndarray__\":\"PCutv6bEAsCeLZHVnonwP7wPcos6X/Y/fy4nv3un4L+o+2q1Q40EQLpUXQsoQvY/I2CwWjxC3T8ojDNLRVPlv255dJ+2Xfw/QTn3c65s8D+1L8VYK8jqPyy0vMhmmNY/MT1MQOPM0L9/Lie/e6fgvws5TbXQ9ps/P8YWQEo24z96N9lFifPJP2mLndugX9k/jyTe5U0U2r/YVzI63g7XP/q06UftVdc/TsQOzqoD2j8OR/kwXuPuv7vhltRsSei/KvskAkjh4b++C0VX5srwPwqE1V7WWO0/RbZfq6jPob8QUNh1TlMAQEBK3xXP5vo/8KLV6s+SrT+MY1w2kgTiP+d1vyyLsMM/Mm4T20Da6L9aXEkdzWzwv3hjwoVlvOG/\",\"dtype\":\"float64\",\"shape\":[36]}},\"selected\":{\"id\":\"7f0a2b60-267a-4129-aeef-a015ce647d9a\",\"type\":\"Selection\"},\"selection_policy\":{\"id\":\"6150c629-f3aa-4130-820f-95adcf43b1d6\",\"type\":\"UnionRenderers\"}},\"id\":\"0fd530e3-0a6a-49e1-8654-2d71239868ef\",\"type\":\"ColumnDataSource\"},{\"attributes\":{\"label\":{\"value\":\"Iris-versicolor\"},\"renderers\":[{\"id\":\"4313fc21-5d16-4afb-9515-136d022a495f\",\"type\":\"GlyphRenderer\"}]},\"id\":\"b6581ab6-d06d-4f15-b6b4-d3059168ed6e\",\"type\":\"LegendItem\"},{\"attributes\":{},\"id\":\"a5aeabdf-8d56-4ae3-a159-db00fe37c948\",\"type\":\"BasicTickFormatter\"},{\"attributes\":{\"bottom_units\":\"screen\",\"fill_alpha\":{\"value\":0.5},\"fill_color\":{\"value\":\"lightgrey\"},\"left_units\":\"screen\",\"level\":\"overlay\",\"line_alpha\":{\"value\":1.0},\"line_color\":{\"value\":\"black\"},\"line_dash\":[4,4],\"line_width\":{\"value\":2},\"plot\":null,\"render_mode\":\"css\",\"right_units\":\"screen\",\"top_units\":\"screen\"},\"id\":\"75c93c2d-dd63-4e9e-82a7-61abb9a35384\",\"type\":\"BoxAnnotation\"},{\"attributes\":{\"callback\":null,\"data\":{\"x\":{\"__ndarray__\":\"xXqxH1DQ1z8CMp2FMYj1PxXvbYaKx/0/7JKGKoQ7AECIA1E19XcAQEFtmxd8f/8/RobyMg+XAkDD4Y9H+7fyP24M3DuDafQ/ctQ22nEL/j/kLFOYxhv2P9RP6/w1RQBArrvEPdyw/j9mA/5/4bn3P6XlwBEmivg/uvwX9iU+9z8+XjGhCPHuP6KQcb6wyQpAnalQGABw8D+zwivyIun8Pw+l5nX+v/c/nAj5/49o+T8yDHhiR84BQHHZAayX4P0/FDclvMwfAEDwam3CFYoCQGswN98mxO0/BLXesyA1/j9/bEL0o5sGQMlBqWouOgZAsaKpPG318j/wArBO6B7+P4cHq5Q49PE/1mYx2Oxr8z8zbTkGhGj7Pw==\",\"dtype\":\"float64\",\"shape\":[35]},\"y\":{\"__ndarray__\":\"K0DYBdjw+L/adW8KXpvcv/PfktMGwus/XpP3Vtau5L80ttDW6mLsPxK73g8wpfA/WlOhyoyY3j+s60Qh8Lvlv3Urx8fjHPK/FUv17YB14z/ZIy0cuNzvP7wBDj59W+Q/xcgoB+Tr5j99WMsQ+crRP2RAhp1pldI/3hoJN7MemL/thE2tsySXvwoxbXDIsLw/8cxteDdasj8X3kl90anDv3815HbDfNu/vkrjEnrp8D9Zl/C3XF3jP9NUy8CrhuY/g8RGlrTs8D+GTf303x8FQA13nRfFf5U/YqcVyuOK2j84gShkwG/tP+BXmRfblus/Iy7a6/ay0r8oxVBwKYjCv7fBhHK87NC/55cQtJG+6L8MOMqP4FvwPw==\",\"dtype\":\"float64\",\"shape\":[35]}},\"selected\":{\"id\":\"327dd367-28fc-4008-91e2-4bf7b63ebe86\",\"type\":\"Selection\"},\"selection_policy\":{\"id\":\"a79bcd6a-42e4-4df3-81b7-cd626ecc5874\",\"type\":\"UnionRenderers\"}},\"id\":\"eb20adc3-2324-484a-aee6-2d661fbb9631\",\"type\":\"ColumnDataSource\"},{\"attributes\":{\"label\":{\"value\":\"Iris-virginica\"},\"renderers\":[{\"id\":\"7e09ce22-d2fe-44f2-97e2-56eb981856be\",\"type\":\"GlyphRenderer\"}]},\"id\":\"bd0e8cce-fa36-4d8d-b795-a678456befbd\",\"type\":\"LegendItem\"},{\"attributes\":{\"source\":{\"id\":\"0fd530e3-0a6a-49e1-8654-2d71239868ef\",\"type\":\"ColumnDataSource\"}},\"id\":\"b32851ea-3390-4536-a149-2188f13c575e\",\"type\":\"CDSView\"},{\"attributes\":{},\"id\":\"89469390-6146-4f9b-a502-485a086cb120\",\"type\":\"BasicTicker\"},{\"attributes\":{},\"id\":\"93f59290-32e8-4817-b1b9-6180c37e85b8\",\"type\":\"Selection\"},{\"attributes\":{},\"id\":\"d50ba24d-07f9-4c17-a7b3-8d26e069b3a4\",\"type\":\"LinearScale\"},{\"attributes\":{\"data_source\":{\"id\":\"eb20adc3-2324-484a-aee6-2d661fbb9631\",\"type\":\"ColumnDataSource\"},\"glyph\":{\"id\":\"2b226bad-d4cf-48fa-a7ef-3532cfdaab57\",\"type\":\"Circle\"},\"hover_glyph\":null,\"muted_glyph\":null,\"nonselection_glyph\":{\"id\":\"a7eede36-8f0c-48b5-83e2-8d68ed547413\",\"type\":\"Circle\"},\"selection_glyph\":null,\"view\":{\"id\":\"fb05911f-9cb3-406e-b489-d63737634cbd\",\"type\":\"CDSView\"}},\"id\":\"7e09ce22-d2fe-44f2-97e2-56eb981856be\",\"type\":\"GlyphRenderer\"},{\"attributes\":{\"axis_label\":\"PCA Dim 2\",\"formatter\":{\"id\":\"f2ba8a8d-7fee-468b-af68-0bd104845984\",\"type\":\"BasicTickFormatter\"},\"plot\":{\"id\":\"b6580edf-d81d-4ad3-9712-a6f5d6f7585d\",\"subtype\":\"Figure\",\"type\":\"Plot\"},\"ticker\":{\"id\":\"2bccda7c-6941-4501-86a1-c9d66fcb9f9d\",\"type\":\"BasicTicker\"}},\"id\":\"ed9d5016-bd22-407b-b50c-85d87354e528\",\"type\":\"LinearAxis\"},{\"attributes\":{},\"id\":\"ca52a981-6d01-4d92-abf6-363ea7385d4e\",\"type\":\"UnionRenderers\"},{\"attributes\":{\"fill_color\":{\"value\":\"Red\"},\"line_color\":{\"value\":\"Red\"},\"line_width\":{\"value\":2},\"x\":{\"field\":\"x\"},\"y\":{\"field\":\"y\"}},\"id\":\"c6823691-a072-4131-97a6-123737d3dc61\",\"type\":\"Circle\"},{\"attributes\":{},\"id\":\"4d6773e3-b2f9-4c82-8269-75e0da8bda5d\",\"type\":\"LinearScale\"},{\"attributes\":{},\"id\":\"2bccda7c-6941-4501-86a1-c9d66fcb9f9d\",\"type\":\"BasicTicker\"},{\"attributes\":{},\"id\":\"941edc96-02a0-432f-ac85-602599033e00\",\"type\":\"HelpTool\"},{\"attributes\":{\"active_drag\":\"auto\",\"active_inspect\":\"auto\",\"active_multi\":null,\"active_scroll\":\"auto\",\"active_tap\":\"auto\",\"tools\":[{\"id\":\"6429ed46-7462-462a-a82d-3c72ec80d18a\",\"type\":\"PanTool\"},{\"id\":\"86fa5f48-c50c-4fbd-89fa-5600e94712c6\",\"type\":\"WheelZoomTool\"},{\"id\":\"e545d92c-5d23-4ed3-b0a5-d9cf95fd6c62\",\"type\":\"BoxZoomTool\"},{\"id\":\"cc9c2427-fc68-4a88-aeef-a7c1e16f9b88\",\"type\":\"SaveTool\"},{\"id\":\"7cb97e9a-c2a8-4593-9066-002e702ce3a1\",\"type\":\"ResetTool\"},{\"id\":\"941edc96-02a0-432f-ac85-602599033e00\",\"type\":\"HelpTool\"}]},\"id\":\"fad8e57e-e7fb-4aa2-9f79-25af866034bb\",\"type\":\"Toolbar\"},{\"attributes\":{\"callback\":null,\"data\":{\"x\":{\"__ndarray__\":\"hit4nq7LpL/Tb5xmoEjWP3LZPUTCye0/zGMdNW5Q8T8RreBrATXdvxtjCViWi9e/xhMA/yCozD8QNuNLQOHwPztdvz0lMtI/qx+20cBJ5D80N07B5NXzPxttjbCQ8PM/YwdOOZAf2z+mBGaOO53AP7EvlL5VIPE/0hT0/Uj74z8MeCXySbLfvyAmnlEIbN4/VW4PpqlU5T8fKqzRHafnP8w1FzNAB+w/e3qQnYfU2D/JkP22rDKVP4qgGtLj5cQ/CkXUMXKmtT9rH+zDUeD1P69/kNzgf+Y/m6XJlILw8z/KU4mM1NrnP4lMsz/iWNo/zyRKAycX5z+wzUtwVzv0P0gyx279I7A/GWIhvRitp7+dWnYZjKjxPxWu3Ab/Iry/okgrfzsH7D9fYm7Di2ziP8qCX0Op1PA/HTndFumTzj/KTuwUhxXcPw==\",\"dtype\":\"float64\",\"shape\":[41]},\"y\":{\"__ndarray__\":\"xxFYrfqF3L84BNvoZm/KvwsiwIemXa8/W06lszV2xr/EX5rpW6b4v01Q9JFPCADA685OoAy22L9mWghWMCf1vzVlm5nE8/S/wBRnn4BW2b971rWgn+n4vzhxKbrlTey/3w2PuH896j/XwbEHdpT4v5Ldch6vc+O/XgWxPmTAnz/pHz68QI/9v1ylexkukdm/JcXh2l+xy7/TvVqbboTYP0n+gYJcadE/vcCj5ebC4r+2E1ap77/4v/2hu3kTe/S/me8o988/yL+Q5gCjxuvWP7xy/0IGdKW/5dshbYGL5D9JqNt1VHnoP/7WNu9Ah/u/ezBuzr8bxr/r2fjTZWqhv1EOcwNLm82/BI9+DT2q8L/WvLDFQErsP+O2IzKo7wTAWOEiHerY4D/eX/PC/eLBvxdAgODvTOE/Xjl1OEVl6L82QxQ8t6mwvw==\",\"dtype\":\"float64\",\"shape\":[41]}},\"selected\":{\"id\":\"93f59290-32e8-4817-b1b9-6180c37e85b8\",\"type\":\"Selection\"},\"selection_policy\":{\"id\":\"ca52a981-6d01-4d92-abf6-363ea7385d4e\",\"type\":\"UnionRenderers\"}},\"id\":\"7cddcd14-8744-47f5-bba5-186727496184\",\"type\":\"ColumnDataSource\"},{\"attributes\":{\"dimension\":1,\"plot\":{\"id\":\"b6580edf-d81d-4ad3-9712-a6f5d6f7585d\",\"subtype\":\"Figure\",\"type\":\"Plot\"},\"ticker\":{\"id\":\"2bccda7c-6941-4501-86a1-c9d66fcb9f9d\",\"type\":\"BasicTicker\"}},\"id\":\"17cfa59f-93c2-41d6-9d79-c0458e7504dc\",\"type\":\"Grid\"}],\"root_ids\":[\"b6580edf-d81d-4ad3-9712-a6f5d6f7585d\"]},\"title\":\"Bokeh Application\",\"version\":\"1.0.0dev4\"}};\n",
       "  var render_items = [{\"docid\":\"b01063bc-8734-4c55-997a-ebdc12516c85\",\"notebook_comms_target\":\"0052f354-2353-4dac-9285-9114ea0b8a41\",\"roots\":{\"b6580edf-d81d-4ad3-9712-a6f5d6f7585d\":\"9f6e6d68-4678-48a3-8767-949be231838f\"}}];\n",
       "  root.Bokeh.embed.embed_items_notebook(docs_json, render_items);\n",
       "\n",
       "  }\n",
       "  if (root.Bokeh !== undefined) {\n",
       "    embed_document(root);\n",
       "  } else {\n",
       "    var attempts = 0;\n",
       "    var timer = setInterval(function(root) {\n",
       "      if (root.Bokeh !== undefined) {\n",
       "        embed_document(root);\n",
       "        clearInterval(timer);\n",
       "      }\n",
       "      attempts++;\n",
       "      if (attempts > 100) {\n",
       "        console.log(\"Bokeh: ERROR: Unable to run BokehJS code because BokehJS library is missing\")\n",
       "        clearInterval(timer);\n",
       "      }\n",
       "    }, 10, root)\n",
       "  }\n",
       "})(window);"
      ],
      "application/vnd.bokehjs_exec.v0+json": ""
     },
     "metadata": {
      "application/vnd.bokehjs_exec.v0+json": {
       "id": "b6580edf-d81d-4ad3-9712-a6f5d6f7585d"
      }
     },
     "output_type": "display_data"
    },
    {
     "data": {
      "text/html": [
       "<p><code>&lt;Bokeh Notebook handle for <strong>In[67]</strong>&gt;</code></p>"
      ],
      "text/plain": [
       "<bokeh.io.notebook.CommsHandle at 0x1a16b4a438>"
      ]
     },
     "execution_count": 67,
     "metadata": {},
     "output_type": "execute_result"
    }
   ],
   "source": [
    "plot = figure(x_axis_label='PCA Dim 1', y_axis_label='PCA Dim 2', title='IRIS Dataset in 2D')\n",
    "unique_species = list(data_combine['Species'].unique())\n",
    "\n",
    "# colors = itertools.cycle(palette(len(unique_species)))\n",
    "colors = ['Red', 'Green', 'Blue']\n",
    "\n",
    "\n",
    "for species_name, color in zip(unique_species, colors):\n",
    "        data = data_combine[data_combine['Species'] == species_name]\n",
    "        plot.circle(x=data[0], y=data[1], legend=species_name , color=color, line_width=2)\n",
    "show(plot, notebook_handle=True)"
   ]
  },
  {
   "cell_type": "markdown",
   "metadata": {
    "_uuid": "4a857fdb6ea5fb29724fd349581f73d9f8c46607"
   },
   "source": [
    "### Use the reduced dimensions for classification [Using LinearSVC]"
   ]
  },
  {
   "cell_type": "code",
   "execution_count": 68,
   "metadata": {
    "_uuid": "3810e92a87b96fcd13478b3031d6a7c320399b2c"
   },
   "outputs": [
    {
     "name": "stdout",
     "output_type": "stream",
     "text": [
      "Coefficients = [[-0.14324335  0.41177669 -0.70307539 -0.69385528]\n",
      " [ 0.11827081 -0.52802696  0.51476235 -0.61773149]\n",
      " [-0.34397114 -0.21356823  1.70244712  1.46819329]]\n",
      "Intercept = [-0.76253351 -0.3026407  -1.95093668]\n"
     ]
    },
    {
     "name": "stderr",
     "output_type": "stream",
     "text": [
      "/Users/rishabhzn200/anaconda/lib/python3.6/site-packages/sklearn/utils/validation.py:578: DataConversionWarning: A column-vector y was passed when a 1d array was expected. Please change the shape of y to (n_samples, ), for example using ravel().\n",
      "  y = column_or_1d(y, warn=True)\n"
     ]
    }
   ],
   "source": [
    "# X_train_scaled_2D, y_train\n",
    "# X_test_scaled_2D, y_test\n",
    "\n",
    "from sklearn.svm import LinearSVC\n",
    "clf = LinearSVC(C=1.0, class_weight=None, dual=True, fit_intercept=True,\n",
    "     intercept_scaling=1, loss='squared_hinge', max_iter=1000,\n",
    "     multi_class='ovr', penalty='l2', random_state=0, tol=0.0001,\n",
    "     verbose=0)\n",
    "clf.fit(X_train_scaled, y_train)\n",
    "print(f'Coefficients = {clf.coef_}')\n",
    "print(f'Intercept = {clf.intercept_}')\n",
    "predicted = clf.predict(X_test_scaled)\n",
    "# predicted"
   ]
  },
  {
   "cell_type": "markdown",
   "metadata": {
    "_uuid": "9a0d30c02f429c6f6704cbcf3a26077be4970dbf"
   },
   "source": [
    "### Display the accuracy"
   ]
  },
  {
   "cell_type": "code",
   "execution_count": 69,
   "metadata": {
    "_uuid": "94492348f63f85acd8c576754af3e8662fd1cf9d"
   },
   "outputs": [
    {
     "data": {
      "text/plain": [
       "97.36842105263158"
      ]
     },
     "execution_count": 69,
     "metadata": {},
     "output_type": "execute_result"
    }
   ],
   "source": [
    "y_predicted = np.array(list(predicted))\n",
    "y_actual = np.array(y_test['Species'].values.tolist())\n",
    "\n",
    "count = 0\n",
    "for p, a in zip(y_predicted, y_actual):\n",
    "    if p == a:\n",
    "        count += 1\n",
    "accuracy = count*100/len(y_predicted)\n",
    "accuracy"
   ]
  },
  {
   "cell_type": "code",
   "execution_count": null,
   "metadata": {
    "_uuid": "3144831680742c39c1c2e3a1336b1840213f3e0c",
    "collapsed": true
   },
   "outputs": [],
   "source": []
  },
  {
   "cell_type": "code",
   "execution_count": null,
   "metadata": {
    "collapsed": true
   },
   "outputs": [],
   "source": []
  }
 ],
 "metadata": {
  "kernelspec": {
   "display_name": "Python 3",
   "language": "python",
   "name": "python3"
  },
  "language_info": {
   "codemirror_mode": {
    "name": "ipython",
    "version": 3
   },
   "file_extension": ".py",
   "mimetype": "text/x-python",
   "name": "python",
   "nbconvert_exporter": "python",
   "pygments_lexer": "ipython3",
   "version": "3.6.3"
  }
 },
 "nbformat": 4,
 "nbformat_minor": 1
}
